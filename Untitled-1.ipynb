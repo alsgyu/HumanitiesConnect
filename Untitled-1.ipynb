{
 "cells": [
  {
   "cell_type": "code",
   "execution_count": 3,
   "metadata": {},
   "outputs": [
    {
     "name": "stdout",
     "output_type": "stream",
     "text": [
      "Collecting langchain\n",
      "  Using cached langchain-0.3.3-py3-none-any.whl.metadata (7.1 kB)\n",
      "Requirement already satisfied: langchain-core in c:\\users\\host0\\appdata\\local\\programs\\orange\\lib\\site-packages (0.3.10)\n",
      "Collecting langchain-community\n",
      "  Downloading langchain_community-0.3.2-py3-none-any.whl.metadata (2.8 kB)\n",
      "Collecting langchain-text-splitters\n",
      "  Using cached langchain_text_splitters-0.3.0-py3-none-any.whl.metadata (2.3 kB)\n",
      "Collecting langchain-openai\n",
      "  Downloading langchain_openai-0.2.2-py3-none-any.whl.metadata (2.6 kB)\n",
      "Requirement already satisfied: langchain-pinecone in c:\\users\\host0\\appdata\\local\\programs\\orange\\lib\\site-packages (0.2.0)\n",
      "Requirement already satisfied: PyYAML>=5.3 in c:\\users\\host0\\appdata\\local\\programs\\orange\\lib\\site-packages (from langchain) (6.0.1)\n",
      "Collecting SQLAlchemy<3,>=1.4 (from langchain)\n",
      "  Downloading SQLAlchemy-2.0.35-cp311-cp311-win_amd64.whl.metadata (9.9 kB)\n",
      "Requirement already satisfied: aiohttp<4.0.0,>=3.8.3 in c:\\users\\host0\\appdata\\local\\programs\\orange\\lib\\site-packages (from langchain) (3.9.5)\n",
      "Requirement already satisfied: langsmith<0.2.0,>=0.1.17 in c:\\users\\host0\\appdata\\local\\programs\\orange\\lib\\site-packages (from langchain) (0.1.134)\n",
      "Requirement already satisfied: numpy<2,>=1 in c:\\users\\host0\\appdata\\local\\programs\\orange\\lib\\site-packages (from langchain) (1.24.4)\n",
      "Requirement already satisfied: pydantic<3.0.0,>=2.7.4 in c:\\users\\host0\\appdata\\local\\programs\\orange\\lib\\site-packages (from langchain) (2.9.2)\n",
      "Requirement already satisfied: requests<3,>=2 in c:\\users\\host0\\appdata\\local\\programs\\orange\\lib\\site-packages (from langchain) (2.32.3)\n",
      "Requirement already satisfied: tenacity!=8.4.0,<9.0.0,>=8.1.0 in c:\\users\\host0\\appdata\\local\\programs\\orange\\lib\\site-packages (from langchain) (8.3.0)\n",
      "Requirement already satisfied: jsonpatch<2.0,>=1.33 in c:\\users\\host0\\appdata\\local\\programs\\orange\\lib\\site-packages (from langchain-core) (1.33)\n",
      "Requirement already satisfied: packaging<25,>=23.2 in c:\\users\\host0\\appdata\\local\\programs\\orange\\lib\\site-packages (from langchain-core) (24.0)\n",
      "Requirement already satisfied: typing-extensions>=4.7 in c:\\users\\host0\\appdata\\local\\programs\\orange\\lib\\site-packages (from langchain-core) (4.11.0)\n",
      "Collecting dataclasses-json<0.7,>=0.5.7 (from langchain-community)\n",
      "  Using cached dataclasses_json-0.6.7-py3-none-any.whl.metadata (25 kB)\n",
      "Collecting pydantic-settings<3.0.0,>=2.4.0 (from langchain-community)\n",
      "  Using cached pydantic_settings-2.5.2-py3-none-any.whl.metadata (3.5 kB)\n",
      "Collecting openai<2.0.0,>=1.40.0 (from langchain-openai)\n",
      "  Using cached openai-1.51.2-py3-none-any.whl.metadata (24 kB)\n",
      "Collecting tiktoken<1,>=0.7 (from langchain-openai)\n",
      "  Downloading tiktoken-0.8.0-cp311-cp311-win_amd64.whl.metadata (6.8 kB)\n",
      "Requirement already satisfied: pinecone-client<6.0.0,>=5.0.0 in c:\\users\\host0\\appdata\\local\\programs\\orange\\lib\\site-packages (from langchain-pinecone) (5.0.1)\n",
      "Requirement already satisfied: aiosignal>=1.1.2 in c:\\users\\host0\\appdata\\local\\programs\\orange\\lib\\site-packages (from aiohttp<4.0.0,>=3.8.3->langchain) (1.3.1)\n",
      "Requirement already satisfied: attrs>=17.3.0 in c:\\users\\host0\\appdata\\local\\programs\\orange\\lib\\site-packages (from aiohttp<4.0.0,>=3.8.3->langchain) (23.2.0)\n",
      "Requirement already satisfied: frozenlist>=1.1.1 in c:\\users\\host0\\appdata\\local\\programs\\orange\\lib\\site-packages (from aiohttp<4.0.0,>=3.8.3->langchain) (1.4.1)\n",
      "Requirement already satisfied: multidict<7.0,>=4.5 in c:\\users\\host0\\appdata\\local\\programs\\orange\\lib\\site-packages (from aiohttp<4.0.0,>=3.8.3->langchain) (6.1.0)\n",
      "Requirement already satisfied: yarl<2.0,>=1.0 in c:\\users\\host0\\appdata\\local\\programs\\orange\\lib\\site-packages (from aiohttp<4.0.0,>=3.8.3->langchain) (1.15.2)\n",
      "Collecting marshmallow<4.0.0,>=3.18.0 (from dataclasses-json<0.7,>=0.5.7->langchain-community)\n",
      "  Using cached marshmallow-3.22.0-py3-none-any.whl.metadata (7.2 kB)\n",
      "Collecting typing-inspect<1,>=0.4.0 (from dataclasses-json<0.7,>=0.5.7->langchain-community)\n",
      "  Using cached typing_inspect-0.9.0-py3-none-any.whl.metadata (1.5 kB)\n",
      "Requirement already satisfied: jsonpointer>=1.9 in c:\\users\\host0\\appdata\\local\\programs\\orange\\lib\\site-packages (from jsonpatch<2.0,>=1.33->langchain-core) (3.0.0)\n",
      "Requirement already satisfied: httpx<1,>=0.23.0 in c:\\users\\host0\\appdata\\local\\programs\\orange\\lib\\site-packages (from langsmith<0.2.0,>=0.1.17->langchain) (0.27.0)\n",
      "Requirement already satisfied: orjson<4.0.0,>=3.9.14 in c:\\users\\host0\\appdata\\local\\programs\\orange\\lib\\site-packages (from langsmith<0.2.0,>=0.1.17->langchain) (3.10.7)\n",
      "Requirement already satisfied: requests-toolbelt<2.0.0,>=1.0.0 in c:\\users\\host0\\appdata\\local\\programs\\orange\\lib\\site-packages (from langsmith<0.2.0,>=0.1.17->langchain) (1.0.0)\n",
      "Requirement already satisfied: anyio<5,>=3.5.0 in c:\\users\\host0\\appdata\\local\\programs\\orange\\lib\\site-packages (from openai<2.0.0,>=1.40.0->langchain-openai) (4.3.0)\n",
      "Collecting distro<2,>=1.7.0 (from openai<2.0.0,>=1.40.0->langchain-openai)\n",
      "  Using cached distro-1.9.0-py3-none-any.whl.metadata (6.8 kB)\n",
      "Collecting jiter<1,>=0.4.0 (from openai<2.0.0,>=1.40.0->langchain-openai)\n",
      "  Downloading jiter-0.6.1-cp311-none-win_amd64.whl.metadata (5.3 kB)\n",
      "Requirement already satisfied: sniffio in c:\\users\\host0\\appdata\\local\\programs\\orange\\lib\\site-packages (from openai<2.0.0,>=1.40.0->langchain-openai) (1.3.1)\n",
      "Requirement already satisfied: tqdm>4 in c:\\users\\host0\\appdata\\local\\programs\\orange\\lib\\site-packages (from openai<2.0.0,>=1.40.0->langchain-openai) (4.66.4)\n",
      "Requirement already satisfied: certifi>=2019.11.17 in c:\\users\\host0\\appdata\\local\\programs\\orange\\lib\\site-packages (from pinecone-client<6.0.0,>=5.0.0->langchain-pinecone) (2024.7.4)\n",
      "Requirement already satisfied: pinecone-plugin-inference<2.0.0,>=1.0.3 in c:\\users\\host0\\appdata\\local\\programs\\orange\\lib\\site-packages (from pinecone-client<6.0.0,>=5.0.0->langchain-pinecone) (1.1.0)\n",
      "Requirement already satisfied: pinecone-plugin-interface<0.0.8,>=0.0.7 in c:\\users\\host0\\appdata\\local\\programs\\orange\\lib\\site-packages (from pinecone-client<6.0.0,>=5.0.0->langchain-pinecone) (0.0.7)\n",
      "Requirement already satisfied: urllib3>=1.26.0 in c:\\users\\host0\\appdata\\local\\programs\\orange\\lib\\site-packages (from pinecone-client<6.0.0,>=5.0.0->langchain-pinecone) (2.2.1)\n",
      "Requirement already satisfied: annotated-types>=0.6.0 in c:\\users\\host0\\appdata\\local\\programs\\orange\\lib\\site-packages (from pydantic<3.0.0,>=2.7.4->langchain) (0.7.0)\n",
      "Requirement already satisfied: pydantic-core==2.23.4 in c:\\users\\host0\\appdata\\local\\programs\\orange\\lib\\site-packages (from pydantic<3.0.0,>=2.7.4->langchain) (2.23.4)\n",
      "Collecting python-dotenv>=0.21.0 (from pydantic-settings<3.0.0,>=2.4.0->langchain-community)\n",
      "  Using cached python_dotenv-1.0.1-py3-none-any.whl.metadata (23 kB)\n",
      "Requirement already satisfied: charset-normalizer<4,>=2 in c:\\users\\host0\\appdata\\local\\programs\\orange\\lib\\site-packages (from requests<3,>=2->langchain) (3.3.2)\n",
      "Requirement already satisfied: idna<4,>=2.5 in c:\\users\\host0\\appdata\\local\\programs\\orange\\lib\\site-packages (from requests<3,>=2->langchain) (3.7)\n",
      "Collecting greenlet!=0.4.17 (from SQLAlchemy<3,>=1.4->langchain)\n",
      "  Downloading greenlet-3.1.1-cp311-cp311-win_amd64.whl.metadata (3.9 kB)\n",
      "Requirement already satisfied: regex>=2022.1.18 in c:\\users\\host0\\appdata\\local\\programs\\orange\\lib\\site-packages (from tiktoken<1,>=0.7->langchain-openai) (2024.5.15)\n",
      "Requirement already satisfied: httpcore==1.* in c:\\users\\host0\\appdata\\local\\programs\\orange\\lib\\site-packages (from httpx<1,>=0.23.0->langsmith<0.2.0,>=0.1.17->langchain) (1.0.5)\n",
      "Requirement already satisfied: h11<0.15,>=0.13 in c:\\users\\host0\\appdata\\local\\programs\\orange\\lib\\site-packages (from httpcore==1.*->httpx<1,>=0.23.0->langsmith<0.2.0,>=0.1.17->langchain) (0.14.0)\n",
      "Requirement already satisfied: colorama in c:\\users\\host0\\appdata\\local\\programs\\orange\\lib\\site-packages (from tqdm>4->openai<2.0.0,>=1.40.0->langchain-openai) (0.4.6)\n",
      "Collecting mypy-extensions>=0.3.0 (from typing-inspect<1,>=0.4.0->dataclasses-json<0.7,>=0.5.7->langchain-community)\n",
      "  Using cached mypy_extensions-1.0.0-py3-none-any.whl.metadata (1.1 kB)\n",
      "Requirement already satisfied: propcache>=0.2.0 in c:\\users\\host0\\appdata\\local\\programs\\orange\\lib\\site-packages (from yarl<2.0,>=1.0->aiohttp<4.0.0,>=3.8.3->langchain) (0.2.0)\n",
      "Using cached langchain-0.3.3-py3-none-any.whl (1.0 MB)\n",
      "Downloading langchain_community-0.3.2-py3-none-any.whl (2.4 MB)\n",
      "   ---------------------------------------- 0.0/2.4 MB ? eta -:--:--\n",
      "   -- ------------------------------------- 0.1/2.4 MB 2.8 MB/s eta 0:00:01\n",
      "   ------ --------------------------------- 0.4/2.4 MB 4.5 MB/s eta 0:00:01\n",
      "   -------- ------------------------------- 0.5/2.4 MB 3.6 MB/s eta 0:00:01\n",
      "   ----------- ---------------------------- 0.7/2.4 MB 3.4 MB/s eta 0:00:01\n",
      "   ------------- -------------------------- 0.8/2.4 MB 3.5 MB/s eta 0:00:01\n",
      "   --------------- ------------------------ 0.9/2.4 MB 3.2 MB/s eta 0:00:01\n",
      "   ------------------- -------------------- 1.1/2.4 MB 3.4 MB/s eta 0:00:01\n",
      "   --------------------- ------------------ 1.3/2.4 MB 3.6 MB/s eta 0:00:01\n",
      "   ------------------------ --------------- 1.5/2.4 MB 3.4 MB/s eta 0:00:01\n",
      "   --------------------------- ------------ 1.6/2.4 MB 3.6 MB/s eta 0:00:01\n",
      "   ------------------------------ --------- 1.8/2.4 MB 3.6 MB/s eta 0:00:01\n",
      "   -------------------------------- ------- 1.9/2.4 MB 3.4 MB/s eta 0:00:01\n",
      "   --------------------------------- ------ 2.0/2.4 MB 3.4 MB/s eta 0:00:01\n",
      "   ----------------------------------- ---- 2.1/2.4 MB 3.3 MB/s eta 0:00:01\n",
      "   ------------------------------------- -- 2.2/2.4 MB 3.2 MB/s eta 0:00:01\n",
      "   ---------------------------------------  2.4/2.4 MB 3.2 MB/s eta 0:00:01\n",
      "   ---------------------------------------- 2.4/2.4 MB 3.1 MB/s eta 0:00:00\n",
      "Using cached langchain_text_splitters-0.3.0-py3-none-any.whl (25 kB)\n",
      "Downloading langchain_openai-0.2.2-py3-none-any.whl (49 kB)\n",
      "   ---------------------------------------- 0.0/49.7 kB ? eta -:--:--\n",
      "   ---------------------------------------- 49.7/49.7 kB 1.3 MB/s eta 0:00:00\n",
      "Using cached dataclasses_json-0.6.7-py3-none-any.whl (28 kB)\n",
      "Using cached openai-1.51.2-py3-none-any.whl (383 kB)\n",
      "Using cached pydantic_settings-2.5.2-py3-none-any.whl (26 kB)\n",
      "Downloading SQLAlchemy-2.0.35-cp311-cp311-win_amd64.whl (2.1 MB)\n",
      "   ---------------------------------------- 0.0/2.1 MB ? eta -:--:--\n",
      "   ---- ----------------------------------- 0.2/2.1 MB 5.0 MB/s eta 0:00:01\n",
      "   --------- ------------------------------ 0.5/2.1 MB 6.1 MB/s eta 0:00:01\n",
      "   -------------- ------------------------- 0.8/2.1 MB 6.0 MB/s eta 0:00:01\n",
      "   -------------------- ------------------- 1.1/2.1 MB 6.1 MB/s eta 0:00:01\n",
      "   ------------------------ --------------- 1.3/2.1 MB 5.8 MB/s eta 0:00:01\n",
      "   ------------------------------ --------- 1.6/2.1 MB 5.9 MB/s eta 0:00:01\n",
      "   ---------------------------------- ----- 1.8/2.1 MB 5.7 MB/s eta 0:00:01\n",
      "   ---------------------------------------  2.1/2.1 MB 6.0 MB/s eta 0:00:01\n",
      "   ---------------------------------------- 2.1/2.1 MB 5.5 MB/s eta 0:00:00\n",
      "Downloading tiktoken-0.8.0-cp311-cp311-win_amd64.whl (884 kB)\n",
      "   ---------------------------------------- 0.0/884.5 kB ? eta -:--:--\n",
      "   ------ --------------------------------- 133.1/884.5 kB 4.0 MB/s eta 0:00:01\n",
      "   ----------------- ---------------------- 378.9/884.5 kB 4.7 MB/s eta 0:00:01\n",
      "   -------------------------- ------------- 583.7/884.5 kB 4.6 MB/s eta 0:00:01\n",
      "   ---------------------------------------  880.6/884.5 kB 5.1 MB/s eta 0:00:01\n",
      "   ---------------------------------------- 884.5/884.5 kB 5.1 MB/s eta 0:00:00\n",
      "Using cached distro-1.9.0-py3-none-any.whl (20 kB)\n",
      "Downloading greenlet-3.1.1-cp311-cp311-win_amd64.whl (298 kB)\n",
      "   ---------------------------------------- 0.0/298.9 kB ? eta -:--:--\n",
      "   ------------------------------ --------- 225.3/298.9 kB 6.9 MB/s eta 0:00:01\n",
      "   ---------------------------------------- 298.9/298.9 kB 4.7 MB/s eta 0:00:00\n",
      "Downloading jiter-0.6.1-cp311-none-win_amd64.whl (201 kB)\n",
      "   ---------------------------------------- 0.0/202.0 kB ? eta -:--:--\n",
      "   ---------------------------------------- 202.0/202.0 kB 4.1 MB/s eta 0:00:00\n",
      "Using cached marshmallow-3.22.0-py3-none-any.whl (49 kB)\n",
      "Using cached python_dotenv-1.0.1-py3-none-any.whl (19 kB)\n",
      "Using cached typing_inspect-0.9.0-py3-none-any.whl (8.8 kB)\n",
      "Using cached mypy_extensions-1.0.0-py3-none-any.whl (4.7 kB)\n",
      "Installing collected packages: python-dotenv, mypy-extensions, marshmallow, jiter, greenlet, distro, typing-inspect, tiktoken, SQLAlchemy, pydantic-settings, openai, dataclasses-json, langchain-text-splitters, langchain-openai, langchain, langchain-community\n",
      "Successfully installed SQLAlchemy-2.0.35 dataclasses-json-0.6.7 distro-1.9.0 greenlet-3.1.1 jiter-0.6.1 langchain-0.3.3 langchain-community-0.3.2 langchain-openai-0.2.2 langchain-text-splitters-0.3.0 marshmallow-3.22.0 mypy-extensions-1.0.0 openai-1.51.2 pydantic-settings-2.5.2 python-dotenv-1.0.1 tiktoken-0.8.0 typing-inspect-0.9.0\n",
      "Note: you may need to restart the kernel to use updated packages.\n"
     ]
    },
    {
     "name": "stderr",
     "output_type": "stream",
     "text": [
      "  WARNING: The script dotenv.exe is installed in 'c:\\Users\\host0\\AppData\\Local\\Programs\\Orange\\Scripts' which is not on PATH.\n",
      "  Consider adding this directory to PATH or, if you prefer to suppress this warning, use --no-warn-script-location.\n",
      "  WARNING: The script distro.exe is installed in 'c:\\Users\\host0\\AppData\\Local\\Programs\\Orange\\Scripts' which is not on PATH.\n",
      "  Consider adding this directory to PATH or, if you prefer to suppress this warning, use --no-warn-script-location.\n",
      "  WARNING: The script openai.exe is installed in 'c:\\Users\\host0\\AppData\\Local\\Programs\\Orange\\Scripts' which is not on PATH.\n",
      "  Consider adding this directory to PATH or, if you prefer to suppress this warning, use --no-warn-script-location.\n",
      "  WARNING: The script langchain-server.exe is installed in 'c:\\Users\\host0\\AppData\\Local\\Programs\\Orange\\Scripts' which is not on PATH.\n",
      "  Consider adding this directory to PATH or, if you prefer to suppress this warning, use --no-warn-script-location.\n"
     ]
    }
   ],
   "source": [
    "%pip install langchain langchain-core langchain-community langchain-text-splitters langchain-openai langchain-pinecone"
   ]
  },
  {
   "cell_type": "code",
   "execution_count": 35,
   "metadata": {},
   "outputs": [],
   "source": [
    "from langchain_community.document_loaders import Docx2txtLoader\n",
    "from langchain_text_splitters import RecursiveCharacterTextSplitter\n",
    "\n",
    "text_splitter = RecursiveCharacterTextSplitter(\n",
    "    chunk_size=1500,\n",
    "    chunk_overlap=200,\n",
    ")\n",
    "\n",
    "loader = Docx2txtLoader('./inmoon.docx')\n",
    "document_list = loader.load_and_split(text_splitter=text_splitter)"
   ]
  },
  {
   "cell_type": "code",
   "execution_count": 34,
   "metadata": {},
   "outputs": [
    {
     "data": {
      "text/plain": [
       "Document(metadata={'source': './inmoon.docx', 'text': '정확하지만상상할수있는목적은마법적(또는페티시즘적)일수밖에없는것입니다. 그러한이미지는그들의최초발견자들이분명하게 느꼈던것처럼우리의동시대이미지입니다. 그들은우리에게즉시현실세계에대한지식과이해의측면에서뿐만아니라공감의측면에서도 말합니다(여기서는우리가예술이라고부르는것을포함하여매우넓은의미로받아들일것입니다). 비슷한것들은주어진문화에속하는모든 이미지라고말할수있습니다. 한편으로는과학적이고다른한편으로는초자연적이며영적인것입니다. 우리는항상인간이아닌세계의 수수께끼에접근하는이두가지의상반되고상호보완적인방법을발견합니다. 말할필요도없이우리는아직완전히위기를벗어나지못했고 3천년의기술적혁명에도불구하고우리의이미지는인간과그이성만이아니라초인간적신비에계속초점을맞추고있습니다. 가장자연스럽고간단한예시인인간과동물사이의관계를들어봅시다. 주요기능(호흡, 음식섭취, 수면, 생식)을하는인간의몸은동물의 몸이고동물들은다른많은면에서인간과매우가깝습니다. 특히소위‘우월한’ 동물들은기억력이있고기본적인추론이가능하며심지어어떤 동물들(고릴라, 까마귀, 돌고래…)은즉흥적인생각을할수있는놀라운능력을가지고있습니다. 주요차이점은동물들은의사소통과표현의 인위적인수단이없다는것입니다. 그들에게는세련된언어도이미지도없습니다. 인간은항상동물들을정확하게묘사할수있었습니다. 하지만우리는그들을동반자나파트너, 또는우리를위한도구로보았습니다. 중동종교 (이집트, 수메르), 아프리카, 아마존또는시베리아의식의신격화된동물들은매우중요해져서진정으로인간집단을하나로묶을수있습니다. 이것은토템의형상이신성한성격을띠며현실적인질서의모든요구조건을피할수있는경우입니다. 동시에소와같이하인이된동물들은 비슷하게단순화된방식으로묘사되었을수있는데그이유는오직한가지특성만유지되었기때문입니다. 소는강하고쟁기나수레를끌고이를 통해표현된것이바로근육의힘입니다. 이것은특정고대그리스장난감들에서명확하게볼수있는데예를들어모호하게스케치된소모양의 덩어리가바퀴에장착되었습니다. 현대사회에서동물도상학의기록경로는일반적인과학의발전과함께했습니다. 쓸모없지만 감정으로무장한애완동물이된고양이와같은동물은무엇보다도오랫동안병충해방지에귀중한 도움이되었습니다. 이는우리의일상적인장식의일부였고그것을묘사하기위해필요한것은관찰과 무엇보다도객관적인이미지에투영하고자하는욕망뿐(현대화와함께등장한개념)이었습니다. 알브레히트뒤러처럼화가로서거장이며꼼꼼한화가는적어도선사시대사자나오로크정도로 정확하게고양이(또는토끼)를그리는데어려움이없었습니다. 반면에그가직접눈으로본적이없는 코뿔소(그림15)를그렸다면모든세부사항을포함하도록신경을썼음에도불구하고동물은환상적으로보일것입니다. 동물에관한한다큐멘터리적인접근법은정확도와사실주의에초점을두었던표현의역사를따르는것과큰차이가없습니다. 여기서결정적인 단계는기술적이고과학적인발명품이자진보의끊임없는방향으로나아갈운명을가진사진술이었습니다. 최근디지털기술의발명은우리로 하여금사진의형상화능력을더욱세밀하게들여다볼수있게했고점점더가까워지고이미지를복제할수있게했으며더욱포괄적인 카탈로그를만들고비교할수있게해주는완벽한사진의형상화능력에불과했습니다. 간단히말해서인간의지식과동물세계에대한숙달에 있어서보조적인역할을최대한발휘할수있게해주었습니다.'}, page_content='정확하지만상상할수있는목적은마법적(또는페티시즘적)일수밖에없는것입니다. 그러한이미지는그들의최초발견자들이분명하게 느꼈던것처럼우리의동시대이미지입니다. 그들은우리에게즉시현실세계에대한지식과이해의측면에서뿐만아니라공감의측면에서도 말합니다(여기서는우리가예술이라고부르는것을포함하여매우넓은의미로받아들일것입니다). 비슷한것들은주어진문화에속하는모든 이미지라고말할수있습니다. 한편으로는과학적이고다른한편으로는초자연적이며영적인것입니다. 우리는항상인간이아닌세계의 수수께끼에접근하는이두가지의상반되고상호보완적인방법을발견합니다. 말할필요도없이우리는아직완전히위기를벗어나지못했고 3천년의기술적혁명에도불구하고우리의이미지는인간과그이성만이아니라초인간적신비에계속초점을맞추고있습니다. 가장자연스럽고간단한예시인인간과동물사이의관계를들어봅시다. 주요기능(호흡, 음식섭취, 수면, 생식)을하는인간의몸은동물의 몸이고동물들은다른많은면에서인간과매우가깝습니다. 특히소위‘우월한’ 동물들은기억력이있고기본적인추론이가능하며심지어어떤 동물들(고릴라, 까마귀, 돌고래…)은즉흥적인생각을할수있는놀라운능력을가지고있습니다. 주요차이점은동물들은의사소통과표현의 인위적인수단이없다는것입니다. 그들에게는세련된언어도이미지도없습니다. 인간은항상동물들을정확하게묘사할수있었습니다. 하지만우리는그들을동반자나파트너, 또는우리를위한도구로보았습니다. 중동종교 (이집트, 수메르), 아프리카, 아마존또는시베리아의식의신격화된동물들은매우중요해져서진정으로인간집단을하나로묶을수있습니다. 이것은토템의형상이신성한성격을띠며현실적인질서의모든요구조건을피할수있는경우입니다. 동시에소와같이하인이된동물들은 비슷하게단순화된방식으로묘사되었을수있는데그이유는오직한가지특성만유지되었기때문입니다. 소는강하고쟁기나수레를끌고이를 통해표현된것이바로근육의힘입니다. 이것은특정고대그리스장난감들에서명확하게볼수있는데예를들어모호하게스케치된소모양의 덩어리가바퀴에장착되었습니다. 현대사회에서동물도상학의기록경로는일반적인과학의발전과함께했습니다. 쓸모없지만 감정으로무장한애완동물이된고양이와같은동물은무엇보다도오랫동안병충해방지에귀중한 도움이되었습니다. 이는우리의일상적인장식의일부였고그것을묘사하기위해필요한것은관찰과 무엇보다도객관적인이미지에투영하고자하는욕망뿐(현대화와함께등장한개념)이었습니다. 알브레히트뒤러처럼화가로서거장이며꼼꼼한화가는적어도선사시대사자나오로크정도로 정확하게고양이(또는토끼)를그리는데어려움이없었습니다. 반면에그가직접눈으로본적이없는 코뿔소(그림15)를그렸다면모든세부사항을포함하도록신경을썼음에도불구하고동물은환상적으로보일것입니다. 동물에관한한다큐멘터리적인접근법은정확도와사실주의에초점을두었던표현의역사를따르는것과큰차이가없습니다. 여기서결정적인 단계는기술적이고과학적인발명품이자진보의끊임없는방향으로나아갈운명을가진사진술이었습니다. 최근디지털기술의발명은우리로 하여금사진의형상화능력을더욱세밀하게들여다볼수있게했고점점더가까워지고이미지를복제할수있게했으며더욱포괄적인 카탈로그를만들고비교할수있게해주는완벽한사진의형상화능력에불과했습니다. 간단히말해서인간의지식과동물세계에대한숙달에 있어서보조적인역할을최대한발휘할수있게해주었습니다.')"
      ]
     },
     "execution_count": 34,
     "metadata": {},
     "output_type": "execute_result"
    }
   ],
   "source": [
    "document_list[52]"
   ]
  },
  {
   "cell_type": "code",
   "execution_count": 33,
   "metadata": {},
   "outputs": [],
   "source": [
    "from dotenv import load_dotenv\n",
    "from langchain_openai import OpenAIEmbeddings\n",
    "\n",
    "load_dotenv()\n",
    "\n",
    "embedding = OpenAIEmbeddings(model='text-embedding-3-large')"
   ]
  },
  {
   "cell_type": "code",
   "execution_count": 37,
   "metadata": {},
   "outputs": [],
   "source": [
    "import os\n",
    "\n",
    "from pinecone import Pinecone\n",
    "from langchain_pinecone import PineconeVectorStore\n",
    "\n",
    "index_name = 'foryou'\n",
    "pinecone_api_key = os.environ.get(\"59a0c7bd-9bf0-4891-b848-c45b6d693e73\")\n",
    "pc = Pinecone(api_key=pinecone_api_key)\n",
    "\n",
    "\n",
    "database = PineconeVectorStore.from_documents(document_list, embedding, index_name=index_name)"
   ]
  },
  {
   "cell_type": "code",
   "execution_count": 38,
   "metadata": {},
   "outputs": [],
   "source": [
    "query = '행복이 뭔가요?'"
   ]
  },
  {
   "cell_type": "code",
   "execution_count": 39,
   "metadata": {},
   "outputs": [
    {
     "data": {
      "text/plain": [
       "[Document(id='28f0115c-f7d7-49c7-8364-b84d2d296e53', metadata={'source': './inmoon.docx'}, page_content=\"우리 스스로 통제할 수 있는 생각, 의지, 미래에 대한 태도에서만 우리의 진정한 행복을 찾을 수 있다고 주장하는 스토아주의자들이 말하는 행복은 모든 사람들에게 동등하게 열린 기회며 어떤 인생의 상황에서도 추구할 수 있고 다가갈 수 있는 그런 것이어야 했다. 행복은 우리가 '내 것으로 가질 수 있는 ' 그 무엇이다. 스토아 사상가들이 선호하는 비유를 들자면, 뱃사람이 바람의 방향을 바꿀 수 없는 것처럼 인간은 세상에서 일어나는 일들의 방향을 좌지우지할 수 없다. 그러나 행복 역시 세상사에 따라 흔들리는 것이 아니므로 우리의 행복은 결코 고통받지 않는다. 행복은 키케로가 말했듯이 우리의 덕행이 지닌 '명민함과 탁월함'에 의존하며, 그 탁월함은 세상의 그 어떤 역경에 의해서도 압도될 수 없는 것이다. 그 어떤 불행도, 운수 사나운 일도 결코 우리의 행복을 망치거나 전복시킬 수는 없다. 자신 스스로 행복하다고 느끼는 사람이라면 설령 아무리 많은 불행을 감당해야 한다 할지라도 그는 여전히 행복한 사람일 수 있다. 스토아 학파가 말한 행복의 비밀은 행운이 우리에게서 훔쳐가지 못할 것을 소유하는 데 있으며 아무도 훔쳐가지 못하는 이것은 바로 덕행이다. 철인 황제 마르쿠스 아우렐리우스는 ‘행복은 레슬링과 같다’고 보았다. 행복이란 레슬링처럼 패배시켜야 할 적수를 가져서가 아니라 우리 스스로 부단히 경계하고 또 싸울 준비가 되어 있어야 한다고 보았기 때문이다. 스토아 학파의 행복론에는 우주 자연의 법칙에 대한 숭고한 믿음과 그에 바탕한 숙명론적이고도 처절한 금욕주의가 깊게 깔려 있는 것이다.\\n\\n\\n\\nㅇㄴㅇ\\n\\n명상록\\n\\n다른 사람의 잘못을 피하려고 하는 것은 어리석은 짓이다. 그것은 피할 수 없다. 그저 나 자신의 잘못을 벗어나려 노력하라.\\n\\n\\n마르쿠스는 남의 잘못에 화를 내지 말고, 가능하면 바로잡되 고집이 세고 변하지 않으려 한다면 받아들여야 한다고 자신에게 상기시켰다. 그는 선악을 모르는 자가 악을 행해 자신에게 해를 끼치더라도 그의 잘못을 용서해야 한다고 믿었다. 또한 좋은 사람과 나쁜 사람은 모두 같은 보편적 본성의 일부이며 상호 작용하고 협력해야 하며, 모든 인간은 내적으로 연결된 유기체의 일부라고 믿었다. 그러므로 자신이 다른 사람에게 상처를 입히면, 그 외의 사람들에게도 상처를 입히고, 종국에는 자신에게도 상처를 입힌다고 여겼다. 그는 악한 사람을 멸시하고 피하려고 하는 건 자연을 거스르는 짓이며, 남을 판단할 때는 먼저 자신의 잘못을 생각해야 한다고 여겼다. 남을 판단하고 질책해 실망과 괴로움을 주기보다는 자기 계발에 힘쓰라는 것이다.\\n\\n모래 더미가 서로 쌓이면 이전의 모래가 숨겨지는 것처럼, 인생에서도 이전의 이들은 곧 뒤의 일들로 덮인다는 사실을 기억하라.\"),\n",
       " Document(id='40119e0c-f36b-49a3-bc7c-fde1b7efbdac', metadata={'source': './inmoon.docx'}, page_content=\"스토아 철학자에게 있어서는 그 모두(생명, 건강, 소유, 명예 등과 같이 흔히 사람들에게 존중되는 것과 노령, 질병, 빈곤, 예속, 죽음 등과 같이 흔히 혐오의 대상이 되는 것)가 좋은 것도, 나쁜 것도 아닌 단지 '무관심사'로 그칠 뿐이다. 이성을 현혹하는 감정을 뿌리치기 위한 끈질긴 투쟁을 벌이는 것이 인간의 과업이고, 도덕의 목적을 달성하기 위해서는 무엇보다도 그와같은 감정을 완전히 극복함으로써, 정신은 열정으로부터 해탈되어야만 하는데, 이와 같은 상태를 스토아 학파에서는 마음의 안정(아파테이아, apatheia)이라고 일컫는다. 스토아주의의 윤리는 완벽한 도덕적 자유 및 도덕적 지배의 상태에 도달하려는 노력이고, 그 노력의 정점에서 주어지는 영혼의 평정상태가 아파테이아인 것이다.\\n\\n\\n\\n\\xa0\\n\\n□ 스토아학파의 행복론\\n\\n\\xa0\\n\\n\\xa0 보편적인 '인도주의사상'과 또한 그에 못지 않게 포괄적인 '세계시민의 사상'을 고대에 있어서 처음으로 제창하고 나선 스토아 철학자들은 개체적 인격이 지니는 긍지에 넘치는 확고부동한 존엄성과 절대적인 윤리적 의무 이행을 역설함과 아울러 엄격한 금욕주의적 윤리를 예찬하였다. 그들은 개인들끼리의 도덕을 통한 행복감 추구를 표방함으로써 도덕과 행복의 일치를 강조하였다. 이런 점에서는 플라톤의 행복론과 차이가 없는 것 같으나, 플라톤과 소크라테스의 도덕이 폴리스(도시국가)라는 공동체를 전제로 하고 도시국가 공동체의 보존을 목표로 한 도덕이라면, 스토아 학파의 도덕은 서로의 개인적 자유 실현과 행복의 원리로서의 도덕이었다. 스토아 학파는 서로가 공유하는 도덕 원리가 우주 자연에서 나온다고 보았다. 플라톤과 아리스토텔레스가 인지한 자연은 인격적인 성격이 강한 반면, 스토아 학파들이 인지한 자연은 스스로 질서정연하다는 것이다. 자연은 모종의 초월적인 법칙이자 내적 원리로서 우리의 삶에 어떤 흔들리지 않는 지표를 던져주는 것으로 생각했다. 그래서 그들은 우주적 진리를 잘 분별하는 이성적 삶이 행복에 도달하는 길로 보면서, 행복한 사람은 흔들리지 않는 우주 자연의 법칙을 똑바로 인식하여 철저하게 그것에 따라 부동심(아파테이아)의 상태로 유유자적하게 사는 사람이다. 삶에 연연해 하지 않고 죽음도 두려워하지 않으며, 근심과 빈부를 의식하지 않으면서 우주의 진리와 일체를 이루어 살아가는 것이 이상적인 인생이라고 하였다.\"),\n",
       " Document(id='bc792389-7e74-4eec-b71f-8872ba87029f', metadata={'source': './inmoon.docx'}, page_content='이와 함께 스토아 철학의 인간관과 윤리관은 이성주의와 금욕주의로 대표된다. 즉, 스토아철학자들은 이성의 법칙에 의해 운행하는 자연에 대한 사고와 다르게 인간과 삶에 대하여는 비관주의적이라 볼 수 있다. 인간은 신적 이성이 지배하는 자연 속에서 이성을 공유하고 있는 점에서 신의 일부이다. 소우주에 해당하는 인간은 자연과 마찬가지로 이성법칙에 따라야만 인간의 타고난 자연적인 본성에 부합된다. 이성적 영혼이 인간을 지배할 때 인간은 비로소 자유롭고 행복하다. 이성은 인간으로 하여금 비이성적인 부분 즉, 감정, 욕구, 정념을 지배케 함으로써 자연법에 일치시키고 인간이 세계에서 차지하는 지위에 알맞은 의무를 드러내고 실천하게 만듦으로써 비로소 가치를 지닌다. 삶의 최고 목표는 ‘실천적 덕’이다. 덕은 그 자체로 가치로운 것이며, 일체의 존재에 대한 지혜로운 통찰과 동일한 것이다. 행복이 목표가 아니라 덕을 목표로 삼을 때 행복은 달성된다.\\xa0\\n\\n\\n\\n\\xa0 이러한 이성에 투철하고자 하는 철학은 헬레니즘이란 무대배경을 통하여 그 의미가 새롭게 다가온다. 이성적인 자연세계는 한치의 빈틈도 없이 이성법칙에 따라 질서롭게 조화를 이루는 결정론적인 세계이다. 이와 반대로 인간세계는 전쟁과 패배, 불행과 고통으로 점철되는 무질서의 세계이다. 더 이상 인간은 일상적인 행복을 기대하기 어려우며, 세속적인 성공과 행복의 성취는 우리의 능력 밖에 머문다. 따라서 스토아학파에서 말하는 행복은 능력의 발휘보다는 인간의 욕구를 억제함으로써 가능한 것이다. 혼돈의 세계 속에서도 인간은 이성에 따라 통찰하고 운명을 감수하며, 의지의 힘으로 현실의 상황에 구애받지 않고 자신의 영혼을 자유롭게 유지할 수 있다. 삶의 목적은 오로지 이성의 의한 냉담한 부동심을 유지하는 것으로, 이는 육체적인 욕구, 충동, 정서로부터 해방된 자유이며 인간 영혼의 덕인 것이다. 스토아철학 초기의 비관적이고 숙명론적인 성격은 로마시대에 접어들면서 건실한 로마의 정신으로 변모하여 사회에 대한 엄격한 의무감, 동포애, 윤리적인 사명감을 대변하게 된다.'),\n",
       " Document(id='3badeb87-0336-4d7f-b3f2-3020e8ae2fc4', metadata={'source': './inmoon.docx'}, page_content='플라톤의 이성이 인간의 다양한 내적 욕망을 조화롭게 구현하는 삶을 기본적으로 의미하는 것으로, 인간의 본성에서 강렬한 욕망의 요소를 인정하면서 이성에 의해서 조화를 이루게 하는 것이라면, 스토아 학파의 이성은 자연의 내부에서 흔들림 없이 확고부동하게 그 스스로의 모습을 보존하는 원리로서, 조화를 관장하는 것이 아니라 우주 자연의 안정성을 위협하는 욕망의 측면을 완전하게 제어 또는 무력화시키는 원리이다. 따라서 스토아주의자들은 감각적 욕망에서 비롯되는 인간의 무지와 탐욕 그리고 그것에 흔들릴 수밖에 없는 스스로의 유약함과 그로 인한 불행을 뼈저리게 깨닫고 흔들리지 않는 이성의 원리에 따라 철저히 금욕적인 훈련을 수행하여 그야말로 우주 자연의 원리를 완전히 스스로의 삶 속에서 관철해 내는 것, 이것이 곧 진정한 성인(현자)에 이르는 길이자 행복에 이르는 길이라고 본 것이다. 스토아 학파는 개인의 행복, 자유, 안심입명을 보장받기 위해서라도 각 개인들은 타인과의 관계에 대한 의식, 도덕감을 갖고 살아야한다고 말함으로써 타인에 대한 관심과 배려하는 정신을 강조하였다. 스토아주의자들이 말하는 행복은 자기애, 자기 보존본능에 기초한 개인의 행복이었고, 윤리적 생활태도의 목표는 자기완성을 통한 안심입명에 있었다. 이 점이 국가주의적인 도덕감, 의무감까지 포함하여 국민의 행복, 공동체의 행복을 강조한 플라톤, 아리스토텔레스의 행복론과 다른 것이라고 볼 수 있다.')]"
      ]
     },
     "execution_count": 39,
     "metadata": {},
     "output_type": "execute_result"
    }
   ],
   "source": [
    "retriever = database.as_retriever(search_kwargs={'k': 4})\n",
    "retriever.invoke(query)"
   ]
  },
  {
   "cell_type": "code",
   "execution_count": 10,
   "metadata": {},
   "outputs": [
    {
     "name": "stdout",
     "output_type": "stream",
     "text": [
      "Requirement already satisfied: python-dotenv in c:\\users\\host0\\appdata\\local\\programs\\orange\\lib\\site-packages (1.0.1)\n",
      "Requirement already satisfied: langchain-openai in c:\\users\\host0\\appdata\\local\\programs\\orange\\lib\\site-packages (0.2.2)\n",
      "Requirement already satisfied: langchain-core<0.4.0,>=0.3.9 in c:\\users\\host0\\appdata\\local\\programs\\orange\\lib\\site-packages (from langchain-openai) (0.3.10)\n",
      "Requirement already satisfied: openai<2.0.0,>=1.40.0 in c:\\users\\host0\\appdata\\local\\programs\\orange\\lib\\site-packages (from langchain-openai) (1.51.2)\n",
      "Requirement already satisfied: tiktoken<1,>=0.7 in c:\\users\\host0\\appdata\\local\\programs\\orange\\lib\\site-packages (from langchain-openai) (0.8.0)\n",
      "Requirement already satisfied: PyYAML>=5.3 in c:\\users\\host0\\appdata\\local\\programs\\orange\\lib\\site-packages (from langchain-core<0.4.0,>=0.3.9->langchain-openai) (6.0.1)\n",
      "Requirement already satisfied: jsonpatch<2.0,>=1.33 in c:\\users\\host0\\appdata\\local\\programs\\orange\\lib\\site-packages (from langchain-core<0.4.0,>=0.3.9->langchain-openai) (1.33)\n",
      "Requirement already satisfied: langsmith<0.2.0,>=0.1.125 in c:\\users\\host0\\appdata\\local\\programs\\orange\\lib\\site-packages (from langchain-core<0.4.0,>=0.3.9->langchain-openai) (0.1.134)\n",
      "Requirement already satisfied: packaging<25,>=23.2 in c:\\users\\host0\\appdata\\local\\programs\\orange\\lib\\site-packages (from langchain-core<0.4.0,>=0.3.9->langchain-openai) (24.0)\n",
      "Requirement already satisfied: pydantic<3.0.0,>=2.5.2 in c:\\users\\host0\\appdata\\local\\programs\\orange\\lib\\site-packages (from langchain-core<0.4.0,>=0.3.9->langchain-openai) (2.9.2)\n",
      "Requirement already satisfied: tenacity!=8.4.0,<9.0.0,>=8.1.0 in c:\\users\\host0\\appdata\\local\\programs\\orange\\lib\\site-packages (from langchain-core<0.4.0,>=0.3.9->langchain-openai) (8.3.0)\n",
      "Requirement already satisfied: typing-extensions>=4.7 in c:\\users\\host0\\appdata\\local\\programs\\orange\\lib\\site-packages (from langchain-core<0.4.0,>=0.3.9->langchain-openai) (4.11.0)\n",
      "Requirement already satisfied: anyio<5,>=3.5.0 in c:\\users\\host0\\appdata\\local\\programs\\orange\\lib\\site-packages (from openai<2.0.0,>=1.40.0->langchain-openai) (4.3.0)\n",
      "Requirement already satisfied: distro<2,>=1.7.0 in c:\\users\\host0\\appdata\\local\\programs\\orange\\lib\\site-packages (from openai<2.0.0,>=1.40.0->langchain-openai) (1.9.0)\n",
      "Requirement already satisfied: httpx<1,>=0.23.0 in c:\\users\\host0\\appdata\\local\\programs\\orange\\lib\\site-packages (from openai<2.0.0,>=1.40.0->langchain-openai) (0.27.0)\n",
      "Requirement already satisfied: jiter<1,>=0.4.0 in c:\\users\\host0\\appdata\\local\\programs\\orange\\lib\\site-packages (from openai<2.0.0,>=1.40.0->langchain-openai) (0.6.1)\n",
      "Requirement already satisfied: sniffio in c:\\users\\host0\\appdata\\local\\programs\\orange\\lib\\site-packages (from openai<2.0.0,>=1.40.0->langchain-openai) (1.3.1)\n",
      "Requirement already satisfied: tqdm>4 in c:\\users\\host0\\appdata\\local\\programs\\orange\\lib\\site-packages (from openai<2.0.0,>=1.40.0->langchain-openai) (4.66.4)\n",
      "Requirement already satisfied: regex>=2022.1.18 in c:\\users\\host0\\appdata\\local\\programs\\orange\\lib\\site-packages (from tiktoken<1,>=0.7->langchain-openai) (2024.5.15)\n",
      "Requirement already satisfied: requests>=2.26.0 in c:\\users\\host0\\appdata\\local\\programs\\orange\\lib\\site-packages (from tiktoken<1,>=0.7->langchain-openai) (2.32.3)\n",
      "Requirement already satisfied: idna>=2.8 in c:\\users\\host0\\appdata\\local\\programs\\orange\\lib\\site-packages (from anyio<5,>=3.5.0->openai<2.0.0,>=1.40.0->langchain-openai) (3.7)\n",
      "Requirement already satisfied: certifi in c:\\users\\host0\\appdata\\local\\programs\\orange\\lib\\site-packages (from httpx<1,>=0.23.0->openai<2.0.0,>=1.40.0->langchain-openai) (2024.7.4)\n",
      "Requirement already satisfied: httpcore==1.* in c:\\users\\host0\\appdata\\local\\programs\\orange\\lib\\site-packages (from httpx<1,>=0.23.0->openai<2.0.0,>=1.40.0->langchain-openai) (1.0.5)\n",
      "Requirement already satisfied: h11<0.15,>=0.13 in c:\\users\\host0\\appdata\\local\\programs\\orange\\lib\\site-packages (from httpcore==1.*->httpx<1,>=0.23.0->openai<2.0.0,>=1.40.0->langchain-openai) (0.14.0)\n",
      "Requirement already satisfied: jsonpointer>=1.9 in c:\\users\\host0\\appdata\\local\\programs\\orange\\lib\\site-packages (from jsonpatch<2.0,>=1.33->langchain-core<0.4.0,>=0.3.9->langchain-openai) (3.0.0)\n",
      "Requirement already satisfied: orjson<4.0.0,>=3.9.14 in c:\\users\\host0\\appdata\\local\\programs\\orange\\lib\\site-packages (from langsmith<0.2.0,>=0.1.125->langchain-core<0.4.0,>=0.3.9->langchain-openai) (3.10.7)\n",
      "Requirement already satisfied: requests-toolbelt<2.0.0,>=1.0.0 in c:\\users\\host0\\appdata\\local\\programs\\orange\\lib\\site-packages (from langsmith<0.2.0,>=0.1.125->langchain-core<0.4.0,>=0.3.9->langchain-openai) (1.0.0)\n",
      "Requirement already satisfied: annotated-types>=0.6.0 in c:\\users\\host0\\appdata\\local\\programs\\orange\\lib\\site-packages (from pydantic<3.0.0,>=2.5.2->langchain-core<0.4.0,>=0.3.9->langchain-openai) (0.7.0)\n",
      "Requirement already satisfied: pydantic-core==2.23.4 in c:\\users\\host0\\appdata\\local\\programs\\orange\\lib\\site-packages (from pydantic<3.0.0,>=2.5.2->langchain-core<0.4.0,>=0.3.9->langchain-openai) (2.23.4)\n",
      "Requirement already satisfied: charset-normalizer<4,>=2 in c:\\users\\host0\\appdata\\local\\programs\\orange\\lib\\site-packages (from requests>=2.26.0->tiktoken<1,>=0.7->langchain-openai) (3.3.2)\n",
      "Requirement already satisfied: urllib3<3,>=1.21.1 in c:\\users\\host0\\appdata\\local\\programs\\orange\\lib\\site-packages (from requests>=2.26.0->tiktoken<1,>=0.7->langchain-openai) (2.2.1)\n",
      "Requirement already satisfied: colorama in c:\\users\\host0\\appdata\\local\\programs\\orange\\lib\\site-packages (from tqdm>4->openai<2.0.0,>=1.40.0->langchain-openai) (0.4.6)\n",
      "Note: you may need to restart the kernel to use updated packages.\n"
     ]
    }
   ],
   "source": [
    "%pip install python-dotenv langchain-openai"
   ]
  },
  {
   "cell_type": "code",
   "execution_count": 40,
   "metadata": {},
   "outputs": [
    {
     "name": "stderr",
     "output_type": "stream",
     "text": [
      "c:\\Users\\host0\\AppData\\Local\\Programs\\Orange\\Lib\\site-packages\\langsmith\\client.py:354: LangSmithMissingAPIKeyWarning: API key must be provided when using hosted LangSmith API\n",
      "  warnings.warn(\n"
     ]
    }
   ],
   "source": [
    "from langchain import hub\n",
    "\n",
    "prompt = hub.pull(\"rlm/rag-prompt\")"
   ]
  },
  {
   "cell_type": "code",
   "execution_count": 11,
   "metadata": {},
   "outputs": [
    {
     "data": {
      "text/plain": [
       "True"
      ]
     },
     "execution_count": 11,
     "metadata": {},
     "output_type": "execute_result"
    }
   ],
   "source": [
    "from dotenv import load_dotenv\n",
    "\n",
    "load_dotenv()"
   ]
  },
  {
   "cell_type": "code",
   "execution_count": 41,
   "metadata": {},
   "outputs": [],
   "source": [
    "from langchain_openai import ChatOpenAI\n",
    "\n",
    "llm = ChatOpenAI(model='gpt-4o')"
   ]
  },
  {
   "cell_type": "code",
   "execution_count": 12,
   "metadata": {},
   "outputs": [],
   "source": [
    "from langchain_openai import ChatOpenAI\n",
    "\n",
    "llm = ChatOpenAI()"
   ]
  },
  {
   "cell_type": "code",
   "execution_count": 42,
   "metadata": {},
   "outputs": [],
   "source": [
    "from langchain.chains import RetrievalQA\n",
    "\n",
    "\n",
    "qa_chain = RetrievalQA.from_chain_type(\n",
    "    llm, \n",
    "    retriever=retriever,\n",
    "    chain_type_kwargs={\"prompt\": prompt}\n",
    ")"
   ]
  },
  {
   "cell_type": "code",
   "execution_count": 13,
   "metadata": {},
   "outputs": [],
   "source": [
    "ai_message = llm.invoke(\"인프런에 어떤 강의가 있나요?\")"
   ]
  },
  {
   "cell_type": "code",
   "execution_count": 43,
   "metadata": {},
   "outputs": [],
   "source": [
    "# LangChain 권장사항에 따라 강의 코드와 다르게 `.invoke()`를 사용합니다\n",
    "ai_message = qa_chain.invoke({\"query\": query})"
   ]
  },
  {
   "cell_type": "code",
   "execution_count": 14,
   "metadata": {},
   "outputs": [
    {
     "data": {
      "text/plain": [
       "'인프런에는 다양한 분야의 강의가 있습니다. 프로그래밍, 웹 개발, 데이터 분석, 마케팅, 디자인, 경영 등 다양한 주제의 강의를 수강할 수 있습니다. 또한 실무 경험이 풍부한 전문가들이 진행하는 강의도 많이 제공되고 있습니다. 인프런의 강의는 온라인으로 언제든지 수강할 수 있으며, 질문과 답변을 통해 전문가와 소통할 수도 있습니다. 원하는 분야의 강의를 검색하여 새로운 지식과 기술을 습득해보세요.'"
      ]
     },
     "execution_count": 14,
     "metadata": {},
     "output_type": "execute_result"
    }
   ],
   "source": [
    "ai_message.content"
   ]
  },
  {
   "cell_type": "code",
   "execution_count": 44,
   "metadata": {},
   "outputs": [
    {
     "data": {
      "text/plain": [
       "{'query': '행복이 뭔가요?',\n",
       " 'result': '행복은 스토아주의자들에 따르면 우리가 통제할 수 있는 덕행과 이성에 기반한 상태로, 외부 상황에 흔들리지 않고 내적으로 평정과 자유를 유지하는 상태입니다. 행복은 덕행을 실천할 때 달성되며, 이는 외부의 불행이나 역경에 의해 영향을 받지 않습니다. 스토아주의에서 행복은 개인의 도덕적 완성과 내적 자유로 정의됩니다.'}"
      ]
     },
     "execution_count": 44,
     "metadata": {},
     "output_type": "execute_result"
    }
   ],
   "source": [
    "ai_message"
   ]
  },
  {
   "cell_type": "code",
   "execution_count": 15,
   "metadata": {},
   "outputs": [
    {
     "name": "stdout",
     "output_type": "stream",
     "text": [
      "Requirement already satisfied: python-dotenv in c:\\users\\host0\\appdata\\local\\programs\\orange\\lib\\site-packages (1.0.1)\n",
      "Requirement already satisfied: langchain in c:\\users\\host0\\appdata\\local\\programs\\orange\\lib\\site-packages (0.3.3)\n",
      "Requirement already satisfied: langchain-openai in c:\\users\\host0\\appdata\\local\\programs\\orange\\lib\\site-packages (0.2.2)\n",
      "Requirement already satisfied: langchain-community in c:\\users\\host0\\appdata\\local\\programs\\orange\\lib\\site-packages (0.3.2)\n",
      "Requirement already satisfied: langchain-text-splitters in c:\\users\\host0\\appdata\\local\\programs\\orange\\lib\\site-packages (0.3.0)\n",
      "Requirement already satisfied: PyYAML>=5.3 in c:\\users\\host0\\appdata\\local\\programs\\orange\\lib\\site-packages (from langchain) (6.0.1)\n",
      "Requirement already satisfied: SQLAlchemy<3,>=1.4 in c:\\users\\host0\\appdata\\local\\programs\\orange\\lib\\site-packages (from langchain) (2.0.35)\n",
      "Requirement already satisfied: aiohttp<4.0.0,>=3.8.3 in c:\\users\\host0\\appdata\\local\\programs\\orange\\lib\\site-packages (from langchain) (3.9.5)\n",
      "Requirement already satisfied: langchain-core<0.4.0,>=0.3.10 in c:\\users\\host0\\appdata\\local\\programs\\orange\\lib\\site-packages (from langchain) (0.3.10)\n",
      "Requirement already satisfied: langsmith<0.2.0,>=0.1.17 in c:\\users\\host0\\appdata\\local\\programs\\orange\\lib\\site-packages (from langchain) (0.1.134)\n",
      "Requirement already satisfied: numpy<2,>=1 in c:\\users\\host0\\appdata\\local\\programs\\orange\\lib\\site-packages (from langchain) (1.24.4)\n",
      "Requirement already satisfied: pydantic<3.0.0,>=2.7.4 in c:\\users\\host0\\appdata\\local\\programs\\orange\\lib\\site-packages (from langchain) (2.9.2)\n",
      "Requirement already satisfied: requests<3,>=2 in c:\\users\\host0\\appdata\\local\\programs\\orange\\lib\\site-packages (from langchain) (2.32.3)\n",
      "Requirement already satisfied: tenacity!=8.4.0,<9.0.0,>=8.1.0 in c:\\users\\host0\\appdata\\local\\programs\\orange\\lib\\site-packages (from langchain) (8.3.0)\n",
      "Requirement already satisfied: openai<2.0.0,>=1.40.0 in c:\\users\\host0\\appdata\\local\\programs\\orange\\lib\\site-packages (from langchain-openai) (1.51.2)\n",
      "Requirement already satisfied: tiktoken<1,>=0.7 in c:\\users\\host0\\appdata\\local\\programs\\orange\\lib\\site-packages (from langchain-openai) (0.8.0)\n",
      "Requirement already satisfied: dataclasses-json<0.7,>=0.5.7 in c:\\users\\host0\\appdata\\local\\programs\\orange\\lib\\site-packages (from langchain-community) (0.6.7)\n",
      "Requirement already satisfied: pydantic-settings<3.0.0,>=2.4.0 in c:\\users\\host0\\appdata\\local\\programs\\orange\\lib\\site-packages (from langchain-community) (2.5.2)\n",
      "Requirement already satisfied: aiosignal>=1.1.2 in c:\\users\\host0\\appdata\\local\\programs\\orange\\lib\\site-packages (from aiohttp<4.0.0,>=3.8.3->langchain) (1.3.1)\n",
      "Requirement already satisfied: attrs>=17.3.0 in c:\\users\\host0\\appdata\\local\\programs\\orange\\lib\\site-packages (from aiohttp<4.0.0,>=3.8.3->langchain) (23.2.0)\n",
      "Requirement already satisfied: frozenlist>=1.1.1 in c:\\users\\host0\\appdata\\local\\programs\\orange\\lib\\site-packages (from aiohttp<4.0.0,>=3.8.3->langchain) (1.4.1)\n",
      "Requirement already satisfied: multidict<7.0,>=4.5 in c:\\users\\host0\\appdata\\local\\programs\\orange\\lib\\site-packages (from aiohttp<4.0.0,>=3.8.3->langchain) (6.1.0)\n",
      "Requirement already satisfied: yarl<2.0,>=1.0 in c:\\users\\host0\\appdata\\local\\programs\\orange\\lib\\site-packages (from aiohttp<4.0.0,>=3.8.3->langchain) (1.15.2)\n",
      "Requirement already satisfied: marshmallow<4.0.0,>=3.18.0 in c:\\users\\host0\\appdata\\local\\programs\\orange\\lib\\site-packages (from dataclasses-json<0.7,>=0.5.7->langchain-community) (3.22.0)\n",
      "Requirement already satisfied: typing-inspect<1,>=0.4.0 in c:\\users\\host0\\appdata\\local\\programs\\orange\\lib\\site-packages (from dataclasses-json<0.7,>=0.5.7->langchain-community) (0.9.0)\n",
      "Requirement already satisfied: jsonpatch<2.0,>=1.33 in c:\\users\\host0\\appdata\\local\\programs\\orange\\lib\\site-packages (from langchain-core<0.4.0,>=0.3.10->langchain) (1.33)\n",
      "Requirement already satisfied: packaging<25,>=23.2 in c:\\users\\host0\\appdata\\local\\programs\\orange\\lib\\site-packages (from langchain-core<0.4.0,>=0.3.10->langchain) (24.0)\n",
      "Requirement already satisfied: typing-extensions>=4.7 in c:\\users\\host0\\appdata\\local\\programs\\orange\\lib\\site-packages (from langchain-core<0.4.0,>=0.3.10->langchain) (4.11.0)\n",
      "Requirement already satisfied: httpx<1,>=0.23.0 in c:\\users\\host0\\appdata\\local\\programs\\orange\\lib\\site-packages (from langsmith<0.2.0,>=0.1.17->langchain) (0.27.0)\n",
      "Requirement already satisfied: orjson<4.0.0,>=3.9.14 in c:\\users\\host0\\appdata\\local\\programs\\orange\\lib\\site-packages (from langsmith<0.2.0,>=0.1.17->langchain) (3.10.7)\n",
      "Requirement already satisfied: requests-toolbelt<2.0.0,>=1.0.0 in c:\\users\\host0\\appdata\\local\\programs\\orange\\lib\\site-packages (from langsmith<0.2.0,>=0.1.17->langchain) (1.0.0)\n",
      "Requirement already satisfied: anyio<5,>=3.5.0 in c:\\users\\host0\\appdata\\local\\programs\\orange\\lib\\site-packages (from openai<2.0.0,>=1.40.0->langchain-openai) (4.3.0)\n",
      "Requirement already satisfied: distro<2,>=1.7.0 in c:\\users\\host0\\appdata\\local\\programs\\orange\\lib\\site-packages (from openai<2.0.0,>=1.40.0->langchain-openai) (1.9.0)\n",
      "Requirement already satisfied: jiter<1,>=0.4.0 in c:\\users\\host0\\appdata\\local\\programs\\orange\\lib\\site-packages (from openai<2.0.0,>=1.40.0->langchain-openai) (0.6.1)\n",
      "Requirement already satisfied: sniffio in c:\\users\\host0\\appdata\\local\\programs\\orange\\lib\\site-packages (from openai<2.0.0,>=1.40.0->langchain-openai) (1.3.1)\n",
      "Requirement already satisfied: tqdm>4 in c:\\users\\host0\\appdata\\local\\programs\\orange\\lib\\site-packages (from openai<2.0.0,>=1.40.0->langchain-openai) (4.66.4)\n",
      "Requirement already satisfied: annotated-types>=0.6.0 in c:\\users\\host0\\appdata\\local\\programs\\orange\\lib\\site-packages (from pydantic<3.0.0,>=2.7.4->langchain) (0.7.0)\n",
      "Requirement already satisfied: pydantic-core==2.23.4 in c:\\users\\host0\\appdata\\local\\programs\\orange\\lib\\site-packages (from pydantic<3.0.0,>=2.7.4->langchain) (2.23.4)\n",
      "Requirement already satisfied: charset-normalizer<4,>=2 in c:\\users\\host0\\appdata\\local\\programs\\orange\\lib\\site-packages (from requests<3,>=2->langchain) (3.3.2)\n",
      "Requirement already satisfied: idna<4,>=2.5 in c:\\users\\host0\\appdata\\local\\programs\\orange\\lib\\site-packages (from requests<3,>=2->langchain) (3.7)\n",
      "Requirement already satisfied: urllib3<3,>=1.21.1 in c:\\users\\host0\\appdata\\local\\programs\\orange\\lib\\site-packages (from requests<3,>=2->langchain) (2.2.1)\n",
      "Requirement already satisfied: certifi>=2017.4.17 in c:\\users\\host0\\appdata\\local\\programs\\orange\\lib\\site-packages (from requests<3,>=2->langchain) (2024.7.4)\n",
      "Requirement already satisfied: greenlet!=0.4.17 in c:\\users\\host0\\appdata\\local\\programs\\orange\\lib\\site-packages (from SQLAlchemy<3,>=1.4->langchain) (3.1.1)\n",
      "Requirement already satisfied: regex>=2022.1.18 in c:\\users\\host0\\appdata\\local\\programs\\orange\\lib\\site-packages (from tiktoken<1,>=0.7->langchain-openai) (2024.5.15)\n",
      "Requirement already satisfied: httpcore==1.* in c:\\users\\host0\\appdata\\local\\programs\\orange\\lib\\site-packages (from httpx<1,>=0.23.0->langsmith<0.2.0,>=0.1.17->langchain) (1.0.5)\n",
      "Requirement already satisfied: h11<0.15,>=0.13 in c:\\users\\host0\\appdata\\local\\programs\\orange\\lib\\site-packages (from httpcore==1.*->httpx<1,>=0.23.0->langsmith<0.2.0,>=0.1.17->langchain) (0.14.0)\n",
      "Requirement already satisfied: jsonpointer>=1.9 in c:\\users\\host0\\appdata\\local\\programs\\orange\\lib\\site-packages (from jsonpatch<2.0,>=1.33->langchain-core<0.4.0,>=0.3.10->langchain) (3.0.0)\n",
      "Requirement already satisfied: colorama in c:\\users\\host0\\appdata\\local\\programs\\orange\\lib\\site-packages (from tqdm>4->openai<2.0.0,>=1.40.0->langchain-openai) (0.4.6)\n",
      "Requirement already satisfied: mypy-extensions>=0.3.0 in c:\\users\\host0\\appdata\\local\\programs\\orange\\lib\\site-packages (from typing-inspect<1,>=0.4.0->dataclasses-json<0.7,>=0.5.7->langchain-community) (1.0.0)\n",
      "Requirement already satisfied: propcache>=0.2.0 in c:\\users\\host0\\appdata\\local\\programs\\orange\\lib\\site-packages (from yarl<2.0,>=1.0->aiohttp<4.0.0,>=3.8.3->langchain) (0.2.0)\n",
      "Note: you may need to restart the kernel to use updated packages.\n"
     ]
    }
   ],
   "source": [
    "%pip install python-dotenv langchain langchain-openai langchain-community langchain-text-splitters "
   ]
  },
  {
   "cell_type": "code",
   "execution_count": 16,
   "metadata": {},
   "outputs": [],
   "source": [
    "from langchain_community.document_loaders import Docx2txtLoader\n",
    "from langchain_text_splitters import RecursiveCharacterTextSplitter\n",
    "\n",
    "text_splitter = RecursiveCharacterTextSplitter(\n",
    "    chunk_size=1500,\n",
    "    chunk_overlap=200,\n",
    ")\n",
    "\n",
    "loader = Docx2txtLoader('./inmoon.docx')\n",
    "document_list = loader.load_and_split(text_splitter=text_splitter)"
   ]
  },
  {
   "cell_type": "code",
   "execution_count": 17,
   "metadata": {},
   "outputs": [],
   "source": [
    "from dotenv import load_dotenv\n",
    "from langchain_openai import OpenAIEmbeddings\n",
    "\n",
    "# 환경변수를 불러옴\n",
    "load_dotenv()\n",
    "\n",
    "# OpenAI에서 제공하는 Embedding Model을 활용해서 `chunk`를 vector화\n",
    "embedding = OpenAIEmbeddings(model='text-embedding-3-large')"
   ]
  },
  {
   "cell_type": "code",
   "execution_count": 31,
   "metadata": {},
   "outputs": [
    {
     "ename": "ModuleNotFoundError",
     "evalue": "No module named 'langchain_chroma'",
     "output_type": "error",
     "traceback": [
      "\u001b[1;31m---------------------------------------------------------------------------\u001b[0m",
      "\u001b[1;31mModuleNotFoundError\u001b[0m                       Traceback (most recent call last)",
      "Cell \u001b[1;32mIn[31], line 1\u001b[0m\n\u001b[1;32m----> 1\u001b[0m \u001b[38;5;28;01mfrom\u001b[39;00m \u001b[38;5;21;01mlangchain_chroma\u001b[39;00m \u001b[38;5;28;01mimport\u001b[39;00m Chroma\n\u001b[0;32m      3\u001b[0m \u001b[38;5;66;03m# 데이터를 처음 저장할 때 \u001b[39;00m\n\u001b[0;32m      4\u001b[0m \u001b[38;5;66;03m# database = Chroma.from_documents(documents=document_list, embedding=embedding, collection_name='chroma-tax', persist_directory=\"./chroma\")\u001b[39;00m\n\u001b[0;32m      5\u001b[0m \n\u001b[0;32m      6\u001b[0m \u001b[38;5;66;03m# 이미 저장된 데이터를 사용할 때 \u001b[39;00m\n\u001b[0;32m      7\u001b[0m database \u001b[38;5;241m=\u001b[39m Chroma(collection_name\u001b[38;5;241m=\u001b[39m\u001b[38;5;124m'\u001b[39m\u001b[38;5;124mchroma-tax\u001b[39m\u001b[38;5;124m'\u001b[39m, persist_directory\u001b[38;5;241m=\u001b[39m\u001b[38;5;124m\"\u001b[39m\u001b[38;5;124m./chroma\u001b[39m\u001b[38;5;124m\"\u001b[39m, embedding_function\u001b[38;5;241m=\u001b[39membedding)\n",
      "\u001b[1;31mModuleNotFoundError\u001b[0m: No module named 'langchain_chroma'"
     ]
    }
   ],
   "source": [
    "from langchain_chroma import Chroma\n",
    "\n",
    "# 데이터를 처음 저장할 때 \n",
    "# database = Chroma.from_documents(documents=document_list, embedding=embedding, collection_name='chroma-tax', persist_directory=\"./chroma\")\n",
    "\n",
    "# 이미 저장된 데이터를 사용할 때 \n",
    "database = Chroma(collection_name='chroma-tax', persist_directory=\"./chroma\", embedding_function=embedding)"
   ]
  },
  {
   "cell_type": "code",
   "execution_count": 19,
   "metadata": {},
   "outputs": [],
   "source": [
    "query = '연봉 5천만원인 직장인의 소득세는 얼마인가요?'\n",
    "\n",
    "# `k` 값을 조절해서 얼마나 많은 데이터를 불러올지 결정\n",
    "retrieved_docs = database.similarity_search(query, k=3)"
   ]
  },
  {
   "cell_type": "code",
   "execution_count": 20,
   "metadata": {},
   "outputs": [],
   "source": [
    "from langchain_openai import ChatOpenAI\n",
    "\n",
    "llm = ChatOpenAI(model='gpt-4o')"
   ]
  },
  {
   "cell_type": "code",
   "execution_count": 21,
   "metadata": {},
   "outputs": [
    {
     "name": "stderr",
     "output_type": "stream",
     "text": [
      "c:\\Users\\host0\\AppData\\Local\\Programs\\Orange\\Lib\\site-packages\\langsmith\\client.py:354: LangSmithMissingAPIKeyWarning: API key must be provided when using hosted LangSmith API\n",
      "  warnings.warn(\n"
     ]
    }
   ],
   "source": [
    "from langchain import hub\n",
    "\n",
    "prompt = hub.pull(\"rlm/rag-prompt\")"
   ]
  },
  {
   "cell_type": "code",
   "execution_count": 22,
   "metadata": {},
   "outputs": [],
   "source": [
    "from langchain.chains import RetrievalQA\n",
    "\n",
    "qa_chain = RetrievalQA.from_chain_type(\n",
    "    llm, \n",
    "    retriever=database.as_retriever(),\n",
    "    chain_type_kwargs={\"prompt\": prompt}\n",
    ")"
   ]
  },
  {
   "cell_type": "code",
   "execution_count": 23,
   "metadata": {},
   "outputs": [
    {
     "name": "stderr",
     "output_type": "stream",
     "text": [
      "C:\\Users\\host0\\AppData\\Local\\Temp\\ipykernel_4684\\3455095564.py:1: LangChainDeprecationWarning: The method `Chain.__call__` was deprecated in langchain 0.1.0 and will be removed in 1.0. Use :meth:`~invoke` instead.\n",
      "  ai_message = qa_chain({\"query\": query})\n"
     ]
    }
   ],
   "source": [
    "ai_message = qa_chain({\"query\": query})"
   ]
  },
  {
   "cell_type": "code",
   "execution_count": 24,
   "metadata": {},
   "outputs": [],
   "source": [
    "ai_message = qa_chain.invoke({\"query\": query})"
   ]
  },
  {
   "cell_type": "code",
   "execution_count": 25,
   "metadata": {},
   "outputs": [
    {
     "data": {
      "text/plain": [
       "{'query': '연봉 5천만원인 직장인의 소득세는 얼마인가요?',\n",
       " 'result': '제가 제공된 문맥으로는 연봉 5천만원인 직장인의 소득세를 정확히 계산할 수 있는 정보를 찾을 수 없습니다. 소득세는 과세표준, 공제항목, 그리고 세율에 따라 달라지며, 기본적으로는 소득금액에 따라 누진세율이 적용됩니다. 정확한 계산을 위해서는 구체적인 세율 정보와 공제 항목이 필요합니다.'}"
      ]
     },
     "execution_count": 25,
     "metadata": {},
     "output_type": "execute_result"
    }
   ],
   "source": [
    "ai_message"
   ]
  },
  {
   "cell_type": "code",
   "execution_count": 28,
   "metadata": {},
   "outputs": [],
   "source": [
    "query = '우울이란 뭘까요?'\n",
    "\n",
    "# `k` 값을 조절해서 얼마나 많은 데이터를 불러올지 결정\n",
    "retrieved_docs = database.similarity_search(query, k=3)"
   ]
  },
  {
   "cell_type": "code",
   "execution_count": 29,
   "metadata": {},
   "outputs": [
    {
     "data": {
      "text/plain": [
       "[Document(id='274336d9-be55-4b63-83fb-127a877e3899', metadata={'source': './inmoon.docx'}, page_content='프로그램에서 심리치료의 l:lj중이 줄어들고 있으며 더구나 치료관계의 치밀함\\n이 사라진 이유는 정신과학이 약으로 치료하는 의학으로 바뀌었기 때문이\\n다. 그는 심리치료의 중심 에서 밀려나 기계적이고 비인간적으로 되어가는\\n소외 현상에 분노하면서 자선의 실존주의적 심리치료 이론을 발전시킨다.\\n3. 네 가지 실존적 관심구조\\n얄롬의 인간의 조건은 네 가지로서 인간의 궁극적인 관심사이기도 하\\n다. 죽음? 자유, 고립, 무의마가 개인이 직면하는 실존적인 역동적 갈등의\\n내용을 이룬다\\n\\n\\xa0\\n\\n3.1. 죽음 (death)\\n죽음에 대해 인간이 ‘공포’ 1 3)를 갖고 반응하는 이유는 존재를 계속 존\\n속하려는 코나누스(Spinoza)의 작용 때문이다. “핵심적인 존재론적 갈등은\\n피할 수 없는 죽음에 대한 자각과 계속 살고자 하는 원함 사이에 있는 갈\\n등이다.”14)\\n얄롬은 그의 소설책 『보다 냉정하게 보다 용기 있게(Staring at the Sun)』\\n에서 네 가지의 궁극적인 걱정 가운데 죽음을 주된 주제로 선택하고 그리\\n스 철학자들의 말을 빌어 공포를 어떻게 극복하는지 방법을 조언한다.\\n“매순간 죽음을 완벽하게 인식하면서 사는 것은 쉬운 일이 아니 다. 그것\\n은 마치 태양을 똑바로 쳐다보려고 하는 것과 같다. 잠시 동안만 죽음을\\n인식하면서 살 수 있을 뿐이다. 왜냐하면 우리는 두려움에 얼어붙은 채로\\n살아갈 수 없기 때문이다 그래서 우리는 죽음의 공포를 누그러뜨리는 방\\n법을 알아가게 된다. 아이들을 통해 우리의 미래를 투사하거나 부자가 되\\n\\n\\xa0\\n\\n13) 불안과 공포는 대상여부에 따라 일 반적으로 구분된다. 불안은 대상이 없고 공포는\\n대상이 았다.\\n14) 어빈 D. 얄롬, 앞으1 책, 20쪽.\\n실존주의 철학과 철학상담 (강용수) 7'),\n",
       " Document(id='1b8a2a5a-0046-4680-9ffe-7694d9b45602', metadata={'source': './inmoon.docx'}, page_content='18) 에랴히 프롬에게 자유로부터의 도피는 복종에의 갈구로 이 어진다.\\n19) 어빈 D. 얄롬, 앞으1 책, 20쪽.\\n실존주의 철학과 철학상담 (강용수) 9\\n\\n\\xa0\\n\\n실존적 소외는 우리에게 감추어져 있지만 죽음의 절박함에서 그 모습을\\n드러낸다 그 누구도 타인의 죽음을 막을 수 없다.”20)\\n\\n\\xa0\\n\\n3.4 무의미 ( meaninglessness)\\n무의미는 삶의 의미가 무엇인가 하는 질문의 내적 갈등에서 발생 한다.\\n“우리가 반드시 죽어야 한다면, 우리가 우리의 세계 를 구성한다변, 각자가\\n무관심한 우주 안에서 궁극적으로 혼자라면, 인생이 어떤 의미를 가질 수\\n있는가〉 왜 우리가 사논가P 어떻게 살아야 하는가〉 만일 우리에 게 미리\\n예정된 디자인이 없다면, 인생 안에서 자선의 의 미를 구축해야 한다.”2 1 )\\n인생의 의미를 발견하느냐, 창조하느냐 사이의 딜레 마에서 안간은 반드시\\n의미 를 필요로 하는 존재다. 자기 창조적 삶의 의미는 자신이 인생을 지\\n탱할 수 있을 만큼 충분히 튼튼한가라는 질문에 대한 대답에서 찾아진다.\\n“실존적 관점에서 볼 때 불안의 큰본적얀 원천 중 하나논 무의미함이다.\\n우리는 본질적 의미가 결핍된 세상에 내던져진 의 미 를 추구하는 피조물과\\n같다. 실존적 갈등은 전혀 의미 가 없는 세계에 서 자신의 의미를 어 떻게\\n발견 할 것인가, 또는 창조할 것인 가 하는 내 적 갈등이 다”22) 무의 미한 세상\\n에 대해 가장 간결하게 무자비하게 말한 철 학자는 사르트르다. “모든 존재\\n하는 것들은 이유 없이 태어났고, 우연히 약함과 죽음을 통해 지속된다.\\n우리가 태어난 것은 무의마하며, 우리가 죽는 것도 무의미하다.”강)\\n얄롬이 제시한 개인의 정신구조의 층에서 중요한 역할을 하는 네 가지\\n관심은 프로이트의 충동(Drive, Trieb) 개념 을 대신해 , 불안과 방어기제의\\n관계에서 서로 중첩 된 구조로 이 해될 필요가 있다. 이 가운데 가장 중요한\\n\\n\\xa0\\n\\n20) 어빈 D. 얄롬, 『얄롬을 읽는다』, Ben Yalom 엮음, 최한나 옮김, 서울; 시그마프레\\n스, 2010, 322쪽\\n21) 어빈 D. 얄롬, r실존주의 심리 치료』, 20쪽.\\n22) 어빈 D. 얄롬, r얄롬을 읽는다』, 329쪽\\n23) Ibid.; 사르트르는 어느 철 학자들보다 무의미 한 세상에 대한 입 장이 분명 하다. 인생\\n의 의미에 대 한 그의 관점 은 간결하고 무자비하다 ]. P. Sartre, cited in R\\nHepburn, “ Questions about the Meaning of life,” Religious Stuιιes I (1965): 125-40\\n쪽; 사르트르 “인간은 쓸모없는 열정이다”, 어변 D. 얄롬, 앞으1 책, 333쪽.\\n10 哲學땀f究 第135輯'),\n",
       " Document(id='26756675-f71d-408f-a282-1be5ef2e32a3', metadata={'source': './inmoon.docx'}, page_content='제한성과 유한성을 포용할 때 존재망각과 ti] 본래적인 삶의 방식에서 기\\n인하는 불안에서 비로소 벗어나게 된다\\n그러나 죽음이 삶에 긍정적으로 기여하는 좋은 경험이라는 주장은 받아\\n들이기 쉽지 않지 만, 삶의 저l 한성은 인간을 공포에 빠뜨리가도 하면서도\\n삶을 정화하고 그 즐거움을 증진시키는 역할 때문에 새로운 삶의 양식을\\n만들어 낸다. 이러한 점에서 죽음은 삶과 상호보완적 이라고 할 수 있다.\\n죽음이 인간의 육체 를 파괴하지만, 죽음에 대한 반성은 우리 실존을 구원\\n한다. “죽음을 인식하는 것은 삶의 통열감(a sense of poignancy)을 맛보도\\n록 하고, 삶의 관점에 대한 급진적 변화를 가져 다주며, 분열과 고요와 자\\n질구레한 큰섬으로부터 더 본질적 인 삶의 유형 으로 이동하도록 한다.”29)\\n\\n\\xa0\\n\\n4. 철학상담의 기본 원리와 상담가의 태도\\n대부분 실존주의적 상담가는 특별한 기법을 사용하거 나 강조하지 않고\\n실존 대(對) 실존이라는 인 간적 만남을 바탕으로 내담자가 겪은 실존적\\n불안을 다룬다. 심리학적 고민 의 근원은 대부분 인간의 실존에 직면하여\\n생겨나는 문제다;\\n“심리적인 고민은 생물학적인 유전적 근저에 서(심 리약리학적 모델)만 나\\n오는 것도 아니 고, 본능적인 욕구의 억압으로부터(프로이다언 입장) 나\\n오는 것도 아니며 , 의미 있는 어른들이 보살펴주지 도 사랑해주지도 않았\\n으므로 신경증적인 어른이 내재화된 데서 오는 것도 아니며(대상이론\\n입 장), 잊고 있었던 외상의 기억 의 사금파리들 때문도 아니며, 현재의 직\\n업 위가나 다른 사람과의 관계로 인한 삶의 위 기 때문만도 아니다 이 런\\n모든 것을 다 포함해서 얀간의 실존에 직면하는 것으로부터 고민은 나\\n오는 것이다”30)\\n\\n\\xa0\\n\\n29) 어빈 D. 얄롬, 앞의 책, 59쪽\\n30) 루스앨런 조셀슨, 『얄롬의 섬랴치료와 인간의 조건』, 이혜성 옮감, 서 울;시그마프\\n레스, 2008 113 114쪽; I. Yalom, “Some aspects of symptom removal,” Short\\nCircuit, l , 1966.\\n12 哲學땀f究 第135輯')]"
      ]
     },
     "execution_count": 29,
     "metadata": {},
     "output_type": "execute_result"
    }
   ],
   "source": [
    "retrieved_docs"
   ]
  },
  {
   "cell_type": "code",
   "execution_count": 30,
   "metadata": {},
   "outputs": [],
   "source": [
    "from dotenv import load_dotenv\n",
    "from langchain_openai import OpenAIEmbeddings\n",
    "\n",
    "load_dotenv()\n",
    "\n",
    "embedding = OpenAIEmbeddings(model='text-embedding-3-large')"
   ]
  },
  {
   "cell_type": "code",
   "execution_count": null,
   "metadata": {},
   "outputs": [],
   "source": []
  }
 ],
 "metadata": {
  "kernelspec": {
   "display_name": "Python 3",
   "language": "python",
   "name": "python3"
  },
  "language_info": {
   "codemirror_mode": {
    "name": "ipython",
    "version": 3
   },
   "file_extension": ".py",
   "mimetype": "text/x-python",
   "name": "python",
   "nbconvert_exporter": "python",
   "pygments_lexer": "ipython3",
   "version": "3.11.8"
  }
 },
 "nbformat": 4,
 "nbformat_minor": 2
}
